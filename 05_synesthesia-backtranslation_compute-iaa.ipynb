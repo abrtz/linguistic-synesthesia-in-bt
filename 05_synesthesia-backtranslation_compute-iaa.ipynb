{
 "cells": [
  {
   "cell_type": "code",
   "execution_count": 16,
   "id": "d9c3fc3f-42ce-42a7-920b-3690668a6f24",
   "metadata": {},
   "outputs": [],
   "source": [
    "import pandas as pd\n",
    "import glob\n",
    "import sys\n",
    "import polars as pl\n",
    "import seaborn as sns\n",
    "import numpy as np\n",
    "import matplotlib.pyplot as plt\n",
    "from utils_iaa import analyze_all_cases, analyze_cases, process_annotations_and_disagreements, compute_oa, cohen_kappa_pairs, compute_cohen_kappa_all_combinations, get_lists_from_columns, compute_observed_agreement_combinations"
   ]
  },
  {
   "cell_type": "markdown",
   "id": "49052989-42a0-4ef1-a415-a4def7dd610d",
   "metadata": {},
   "source": [
    "# Linguistic Synesthesia - yes or no? Computing IAA on backtranslations"
   ]
  },
  {
   "cell_type": "markdown",
   "id": "8c789b13-1fa3-4360-9ac0-033218610ecc",
   "metadata": {},
   "source": [
    "## Computing IAA"
   ]
  },
  {
   "cell_type": "code",
   "execution_count": 2,
   "id": "0f9a9a4f-15b7-4bc5-a26b-bc152ec99760",
   "metadata": {},
   "outputs": [
    {
     "name": "stdout",
     "output_type": "stream",
     "text": [
      "DE_gpt\n",
      "DE_google\n",
      "ES_gpt\n",
      "ES_google\n",
      "DE_deepL\n",
      "ES_deepL\n"
     ]
    }
   ],
   "source": [
    "#reading the files\n",
    "backtranslations_annotations = {} #creating a df for each annotated file with translated with LLM\n",
    "for filename in glob.glob(\"./data/backtranslations/all_annotators*\"):\n",
    "    name = filename.split('/')[-1].split('.')[0].split('annotators_')[-1] #name of the df of each file\n",
    "    print(name)\n",
    "    backtranslations_annotations[name] = pd.read_csv(filename, sep=\",\")"
   ]
  },
  {
   "cell_type": "code",
   "execution_count": 3,
   "id": "94f0058b-90c8-46c0-8613-1248b65c4589",
   "metadata": {},
   "outputs": [
    {
     "data": {
      "text/html": [
       "<div>\n",
       "<style scoped>\n",
       "    .dataframe tbody tr th:only-of-type {\n",
       "        vertical-align: middle;\n",
       "    }\n",
       "\n",
       "    .dataframe tbody tr th {\n",
       "        vertical-align: top;\n",
       "    }\n",
       "\n",
       "    .dataframe thead th {\n",
       "        text-align: right;\n",
       "    }\n",
       "</style>\n",
       "<table border=\"1\" class=\"dataframe\">\n",
       "  <thead>\n",
       "    <tr style=\"text-align: right;\">\n",
       "      <th></th>\n",
       "      <th>instance</th>\n",
       "      <th>R</th>\n",
       "      <th>H</th>\n",
       "      <th>A</th>\n",
       "      <th>annotator-llm</th>\n",
       "    </tr>\n",
       "  </thead>\n",
       "  <tbody>\n",
       "    <tr>\n",
       "      <th>0</th>\n",
       "      <td>A bored head among windy spaces.</td>\n",
       "      <td>No</td>\n",
       "      <td>No</td>\n",
       "      <td>No</td>\n",
       "      <td>no</td>\n",
       "    </tr>\n",
       "    <tr>\n",
       "      <th>1</th>\n",
       "      <td>A fine and pedantic sun with a satin vest.</td>\n",
       "      <td>No</td>\n",
       "      <td>No</td>\n",
       "      <td>No</td>\n",
       "      <td>yes</td>\n",
       "    </tr>\n",
       "    <tr>\n",
       "      <th>2</th>\n",
       "      <td>A silence permeates the story and a softness t...</td>\n",
       "      <td>Yes</td>\n",
       "      <td>No</td>\n",
       "      <td>No</td>\n",
       "      <td>yes</td>\n",
       "    </tr>\n",
       "    <tr>\n",
       "      <th>3</th>\n",
       "      <td>And painful must be the storm</td>\n",
       "      <td>Yes</td>\n",
       "      <td>No</td>\n",
       "      <td>No</td>\n",
       "      <td>no</td>\n",
       "    </tr>\n",
       "    <tr>\n",
       "      <th>4</th>\n",
       "      <td>But through the pale, thin water, the harmless...</td>\n",
       "      <td>No</td>\n",
       "      <td>No</td>\n",
       "      <td>No</td>\n",
       "      <td>yes</td>\n",
       "    </tr>\n",
       "  </tbody>\n",
       "</table>\n",
       "</div>"
      ],
      "text/plain": [
       "                                            instance    R   H   A  \\\n",
       "0                   A bored head among windy spaces.   No  No  No   \n",
       "1         A fine and pedantic sun with a satin vest.   No  No  No   \n",
       "2  A silence permeates the story and a softness t...  Yes  No  No   \n",
       "3                      And painful must be the storm  Yes  No  No   \n",
       "4  But through the pale, thin water, the harmless...   No  No  No   \n",
       "\n",
       "  annotator-llm  \n",
       "0            no  \n",
       "1           yes  \n",
       "2           yes  \n",
       "3            no  \n",
       "4           yes  "
      ]
     },
     "execution_count": 3,
     "metadata": {},
     "output_type": "execute_result"
    }
   ],
   "source": [
    "backtranslations_annotations['ES_gpt'].head()"
   ]
  },
  {
   "cell_type": "markdown",
   "id": "32a0fd4c-ae02-4c97-b70b-719de8451cca",
   "metadata": {},
   "source": [
    "## Cohen's Kappa"
   ]
  },
  {
   "cell_type": "code",
   "execution_count": 4,
   "id": "f6b3809e-2395-4127-8f19-102d03ed5f4f",
   "metadata": {},
   "outputs": [
    {
     "name": "stdout",
     "output_type": "stream",
     "text": [
      "IAA - DE_gpt\n",
      "\n",
      "All instances' Cohen's kappa and IAA (all cases):\n",
      "\n",
      "Cohen's kappa between R and H: 0.0\n",
      "Cohen's kappa between R and A: 0.49\n",
      "Cohen's kappa between R and annotator-llm: 0.2\n",
      "Cohen's kappa between H and A: 0.43\n",
      "Cohen's kappa between H and annotator-llm: 0.14\n",
      "Cohen's kappa between A and annotator-llm: 0.17\n",
      "\n",
      "Inter-Annotator Agreement (Cohen's kappa) score - all cases: 0.24\n",
      "----------------------------------------------\n",
      "IAA - DE_google\n",
      "\n",
      "All instances' Cohen's kappa and IAA (all cases):\n",
      "\n",
      "Cohen's kappa between R and H: 0.22\n",
      "Cohen's kappa between R and A: 0.18\n",
      "Cohen's kappa between R and annotator-llm: 0.41\n",
      "Cohen's kappa between H and A: 0.0\n",
      "Cohen's kappa between H and annotator-llm: -0.05\n",
      "Cohen's kappa between A and annotator-llm: 0.25\n",
      "\n",
      "Inter-Annotator Agreement (Cohen's kappa) score - all cases: 0.17\n",
      "----------------------------------------------\n",
      "IAA - ES_gpt\n",
      "\n",
      "All instances' Cohen's kappa and IAA (all cases):\n",
      "\n",
      "Cohen's kappa between R and H: 0.59\n",
      "Cohen's kappa between R and A: 0.79\n",
      "Cohen's kappa between R and annotator-llm: 0.2\n",
      "Cohen's kappa between H and A: 0.66\n",
      "Cohen's kappa between H and annotator-llm: 0.12\n",
      "Cohen's kappa between A and annotator-llm: 0.31\n",
      "\n",
      "Inter-Annotator Agreement (Cohen's kappa) score - all cases: 0.44\n",
      "----------------------------------------------\n",
      "IAA - ES_google\n",
      "\n",
      "All instances' Cohen's kappa and IAA (all cases):\n",
      "\n",
      "Cohen's kappa between R and H: 0.45\n",
      "Cohen's kappa between R and A: 0.49\n",
      "Cohen's kappa between R and annotator-llm: 0.01\n",
      "Cohen's kappa between H and A: 0.59\n",
      "Cohen's kappa between H and annotator-llm: -0.15\n",
      "Cohen's kappa between A and annotator-llm: -0.14\n",
      "\n",
      "Inter-Annotator Agreement (Cohen's kappa) score - all cases: 0.21\n",
      "----------------------------------------------\n",
      "IAA - DE_deepL\n",
      "\n",
      "All instances' Cohen's kappa and IAA (all cases):\n",
      "\n",
      "Cohen's kappa between R and H: 0.39\n",
      "Cohen's kappa between R and A: 0.45\n",
      "Cohen's kappa between R and annotator-llm: 0.46\n",
      "Cohen's kappa between H and A: 0.47\n",
      "Cohen's kappa between H and annotator-llm: 0.51\n",
      "Cohen's kappa between A and annotator-llm: 0.56\n",
      "\n",
      "Inter-Annotator Agreement (Cohen's kappa) score - all cases: 0.47\n",
      "----------------------------------------------\n",
      "IAA - ES_deepL\n",
      "\n",
      "All instances' Cohen's kappa and IAA (all cases):\n",
      "\n",
      "Cohen's kappa between R and H: 0.03\n",
      "Cohen's kappa between R and A: 0.44\n",
      "Cohen's kappa between R and annotator-llm: 0.25\n",
      "Cohen's kappa between H and A: 0.55\n",
      "Cohen's kappa between H and annotator-llm: 0.23\n",
      "Cohen's kappa between A and annotator-llm: 0.35\n",
      "\n",
      "Inter-Annotator Agreement (Cohen's kappa) score - all cases: 0.31\n",
      "----------------------------------------------\n"
     ]
    }
   ],
   "source": [
    "columns = ['R', 'H', 'A', 'annotator-llm']\n",
    "for name, df in backtranslations_annotations.items():\n",
    "    print(f'IAA - {name}')\n",
    "    print()\n",
    "    analyze_all_cases(df, columns)"
   ]
  },
  {
   "cell_type": "markdown",
   "id": "4b6c03f2-a781-437f-9388-4a502360483d",
   "metadata": {},
   "source": [
    "## Fleiss Kappa"
   ]
  },
  {
   "cell_type": "code",
   "execution_count": 5,
   "id": "6d5c4cfb-c266-4802-8075-caca2d07bc78",
   "metadata": {},
   "outputs": [
    {
     "name": "stdout",
     "output_type": "stream",
     "text": [
      "IAA - DE_gpt\n",
      "\n",
      "Inter-Annotator Agreement (Fleiss Kappa) score - all cases: 0.01\n",
      "----------------------------------------------\n",
      "IAA - DE_google\n",
      "\n",
      "Inter-Annotator Agreement (Fleiss Kappa) score - all cases: -0.07\n",
      "----------------------------------------------\n",
      "IAA - ES_gpt\n",
      "\n",
      "Inter-Annotator Agreement (Fleiss Kappa) score - all cases: 0.15\n",
      "----------------------------------------------\n",
      "IAA - ES_google\n",
      "\n",
      "Inter-Annotator Agreement (Fleiss Kappa) score - all cases: 0.07\n",
      "----------------------------------------------\n",
      "IAA - DE_deepL\n",
      "\n",
      "Inter-Annotator Agreement (Fleiss Kappa) score - all cases: 0.05\n",
      "----------------------------------------------\n",
      "IAA - ES_deepL\n",
      "\n",
      "Inter-Annotator Agreement (Fleiss Kappa) score - all cases: 0.02\n",
      "----------------------------------------------\n"
     ]
    }
   ],
   "source": [
    "for name, df in backtranslations_annotations.items():\n",
    "    print(f'IAA - {name}')\n",
    "    print()\n",
    "    analyze_all_cases(df, columns,iaa='fleiss')"
   ]
  },
  {
   "cell_type": "markdown",
   "id": "9e8af567-b76f-415c-82dd-a19b9b28340b",
   "metadata": {},
   "source": [
    "## Observed Agreement"
   ]
  },
  {
   "cell_type": "code",
   "execution_count": 6,
   "id": "14eb97f2-a78b-4644-aa57-bd3b5bfaa4a3",
   "metadata": {},
   "outputs": [
    {
     "name": "stdout",
     "output_type": "stream",
     "text": [
      "IAA - DE_gpt\n",
      "\n",
      "All instances' Observed Agreement and IAA (all cases):\n",
      "\n",
      "Observed agreement between R and H: 0.57\n",
      "Observed agreement between R and A: 0.77\n",
      "Observed agreement between R and annotator-llm: 0.63\n",
      "Observed agreement between H and A: 0.73\n",
      "Observed agreement between H and annotator-llm: 0.6\n",
      "Observed agreement between A and annotator-llm: 0.6\n",
      "\n",
      "Inter-Annotator Agreement (Observed Agreement) score - all cases: 0.65\n",
      "----------------------------------------------\n",
      "IAA - DE_google\n",
      "\n",
      "All instances' Observed Agreement and IAA (all cases):\n",
      "\n",
      "Observed agreement between R and H: 0.6\n",
      "Observed agreement between R and A: 0.57\n",
      "Observed agreement between R and annotator-llm: 0.7\n",
      "Observed agreement between H and A: 0.63\n",
      "Observed agreement between H and annotator-llm: 0.5\n",
      "Observed agreement between A and annotator-llm: 0.67\n",
      "\n",
      "Inter-Annotator Agreement (Observed Agreement) score - all cases: 0.61\n",
      "----------------------------------------------\n",
      "IAA - ES_gpt\n",
      "\n",
      "All instances' Observed Agreement and IAA (all cases):\n",
      "\n",
      "Observed agreement between R and H: 0.8\n",
      "Observed agreement between R and A: 0.9\n",
      "Observed agreement between R and annotator-llm: 0.63\n",
      "Observed agreement between H and A: 0.83\n",
      "Observed agreement between H and annotator-llm: 0.57\n",
      "Observed agreement between A and annotator-llm: 0.67\n",
      "\n",
      "Inter-Annotator Agreement (Observed Agreement) score - all cases: 0.73\n",
      "----------------------------------------------\n",
      "IAA - ES_google\n",
      "\n",
      "All instances' Observed Agreement and IAA (all cases):\n",
      "\n",
      "Observed agreement between R and H: 0.73\n",
      "Observed agreement between R and A: 0.8\n",
      "Observed agreement between R and annotator-llm: 0.57\n",
      "Observed agreement between H and A: 0.8\n",
      "Observed agreement between H and annotator-llm: 0.43\n",
      "Observed agreement between A and annotator-llm: 0.5\n",
      "\n",
      "Inter-Annotator Agreement (Observed Agreement) score - all cases: 0.64\n",
      "----------------------------------------------\n",
      "IAA - DE_deepL\n",
      "\n",
      "All instances' Observed Agreement and IAA (all cases):\n",
      "\n",
      "Observed agreement between R and H: 0.7\n",
      "Observed agreement between R and A: 0.73\n",
      "Observed agreement between R and annotator-llm: 0.73\n",
      "Observed agreement between H and A: 0.77\n",
      "Observed agreement between H and annotator-llm: 0.77\n",
      "Observed agreement between A and annotator-llm: 0.8\n",
      "\n",
      "Inter-Annotator Agreement (Observed Agreement) score - all cases: 0.75\n",
      "----------------------------------------------\n",
      "IAA - ES_deepL\n",
      "\n",
      "All instances' Observed Agreement and IAA (all cases):\n",
      "\n",
      "Observed agreement between R and H: 0.53\n",
      "Observed agreement between R and A: 0.73\n",
      "Observed agreement between R and annotator-llm: 0.63\n",
      "Observed agreement between H and A: 0.8\n",
      "Observed agreement between H and annotator-llm: 0.63\n",
      "Observed agreement between A and annotator-llm: 0.7\n",
      "\n",
      "Inter-Annotator Agreement (Observed Agreement) score - all cases: 0.67\n",
      "----------------------------------------------\n"
     ]
    }
   ],
   "source": [
    "for name, df in backtranslations_annotations.items():\n",
    "    print(f'IAA - {name}')\n",
    "    print()\n",
    "    analyze_all_cases(df, columns,iaa='oa')"
   ]
  },
  {
   "cell_type": "markdown",
   "id": "684b82b5-233b-449b-b44e-3cb75f160613",
   "metadata": {},
   "source": [
    "## Save IAA for future use"
   ]
  },
  {
   "cell_type": "code",
   "execution_count": 8,
   "id": "a2352eb7-5293-4972-ad39-1e65592ff569",
   "metadata": {},
   "outputs": [
    {
     "name": "stdout",
     "output_type": "stream",
     "text": [
      "IAA function output saved to iaa.txt\n"
     ]
    }
   ],
   "source": [
    "# Save the current standard output\n",
    "original_stdout = sys.stdout\n",
    "\n",
    "# Specify the file path where you want to save the output\n",
    "output_file_path = 'iaa.txt'\n",
    "\n",
    "# Open the file in write mode\n",
    "with open(output_file_path, 'a') as f:\n",
    "    # Redirect standard output to the file\n",
    "    sys.stdout = f\n",
    "    print(\"IAA on Linguistic Synesthesia - Yes or No Backtranslations\")\n",
    "    print()\n",
    "    # Call the function\n",
    "    for name, df in backtranslations_annotations.items():\n",
    "        print(f'IAA - {name}')\n",
    "        print()\n",
    "        analyze_all_cases(df, columns)\n",
    "        analyze_all_cases(df, columns,iaa='fleiss')\n",
    "        analyze_all_cases(df, columns,iaa='oa')\n",
    "    print(\"----------------------------------------------\")\n",
    "\n",
    "# Restore the original standard output\n",
    "sys.stdout = original_stdout\n",
    "\n",
    "print(f\"IAA function output saved to {output_file_path}\")"
   ]
  },
  {
   "cell_type": "code",
   "execution_count": null,
   "id": "348fbb55-db1e-4804-9533-6ca85e8d9589",
   "metadata": {},
   "outputs": [],
   "source": []
  }
 ],
 "metadata": {
  "kernelspec": {
   "display_name": "Python 3 (ipykernel)",
   "language": "python",
   "name": "python3"
  },
  "language_info": {
   "codemirror_mode": {
    "name": "ipython",
    "version": 3
   },
   "file_extension": ".py",
   "mimetype": "text/x-python",
   "name": "python",
   "nbconvert_exporter": "python",
   "pygments_lexer": "ipython3",
   "version": "3.11.5"
  }
 },
 "nbformat": 4,
 "nbformat_minor": 5
}
