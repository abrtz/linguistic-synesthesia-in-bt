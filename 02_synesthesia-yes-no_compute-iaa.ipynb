{
 "cells": [
  {
   "cell_type": "code",
   "execution_count": 1,
   "id": "d9c3fc3f-42ce-42a7-920b-3690668a6f24",
   "metadata": {},
   "outputs": [],
   "source": [
    "import pandas as pd\n",
    "import pprint as pprint\n",
    "import sys\n",
    "from utils_iaa import analyze_all_cases, analyze_cases, process_annotations_and_disagreements, visualize_and_write_final_df, prepare_df"
   ]
  },
  {
   "cell_type": "markdown",
   "id": "49052989-42a0-4ef1-a415-a4def7dd610d",
   "metadata": {},
   "source": [
    "# Linguistic Synesthesia - yes or no?"
   ]
  },
  {
   "cell_type": "code",
   "execution_count": 2,
   "id": "7525c2ba-c73f-42b7-8549-6b98010bf4e2",
   "metadata": {},
   "outputs": [],
   "source": [
    "eliot_corner_cases = [\n",
    "    \"A dull head among windy spaces.\",\n",
    "    \"A lonely cab-horse steams and stamps.\",\n",
    "    \"But through the water pale and thin \\nStill shine the unoffending feet\",\n",
    "    \"Defunctive music under sea\",\n",
    "    \"Every street lamp that I pass \\nBeats like a fatalistic drum\",\n",
    "    \"Except when a street piano, mechanical and tired\\nReiterates some worn-out common song\\nWith the smell of hyacinths across the garden\",\n",
    "    \"Faced by the snarled and yelping seas.\",\n",
    "    \"He is merely flesh and blood.\",\n",
    "    \"Her hand twists a paper rose,\\nThat smells of dust and old Cologne\",\n",
    "    \"Performing on a harp of gold.\",\n",
    "    \"the floors of silent seas.\",\n",
    "    \"The morning comes to consciousness \\nOf faint stale smells of beer\\nFrom the sawdust-trampled street\",\n",
    "    \"The reminiscence comes\\nOf sunless dry geraniums\",\n",
    "    \"These tears are shaken from the wrath-bearing tree.\",\n",
    "    \"Where worried bodies of drowned men drift down in the green silence\"\n",
    "]\n",
    "\n",
    "dickinson_corner_cases = [\n",
    "    \"Nor noticed that the ebbing day flowed silver to the west \",\n",
    "    \"Is entombed so still that only to the ear of God its doom is audible \",\n",
    "    \"Anecdotes of air in dungeons have sometimes proved deadly sweet!\",\n",
    "    \"But just to hear the grace depart\",\n",
    "    \"A silence suffuses the story, and a softness the teller’s eye\",\n",
    "    \"Demur,--you’re straightway dangerous, and handled with a chain\",\n",
    "    \"Hope is the thing with feathers that perches in the soul, and sings the tune without the words, and never stops at all \",\n",
    "    \"Sharp pittances of years\",\n",
    "    \"The palate of hate departs\",\n",
    "    \"The needle to the north degree wades so, through polar air \",\n",
    "    \"I like to see it lap the miles, and lick the valleys up\",\n",
    "    \"Victory comes late, and is held low to freezing lips too rapt with frost to take it. How sweet it would have tasted, just a drop! \",\n",
    "    \"My country need not change her gown, her triple suit as sweet as when ‘t was cut at Lexington, and first pronounced “a fit.”\",\n",
    "    \"A fine, pedantic sunshine in a satin vest \",\n",
    "    \"The hands still hug the tardy glass\"\n",
    "]\n",
    "\n",
    "shakespeare_corner_cases = [\n",
    "    \"and you must live, drawn by your own sweet skill\",\n",
    "    \"my love is as fair as any mother’s child, though not so bright\",\n",
    "    \"dumb presagers of my speaking breast, who plead for love, and look for recompense\",\n",
    "    \"more than that tongue that more hath more express’d\",\n",
    "    \"and puts apparel on my tatter’d loving\",\n",
    "    \"hiding thy bravery in their rotten smoke\",\n",
    "    \"sweet flattery\",\n",
    "    \"through heavy sleep on sightless eyes doth stay\",\n",
    "    \"the perfumed tincture of the roses\",\n",
    "    \"sweet love, renew thy force\",\n",
    "    \"my sweet love’s beauty\",\n",
    "    \"a woman’s face with nature’s own hand painted\",\n",
    "    \"my saucy bark\",\n",
    "    \"what strained touches rhetoric can lend\",\n",
    "    \"as sweet-season’d showers are to the ground\"\n",
    "]\n",
    "\n"
   ]
  },
  {
   "cell_type": "markdown",
   "id": "8c789b13-1fa3-4360-9ac0-033218610ecc",
   "metadata": {},
   "source": [
    "## Computing IAA"
   ]
  },
  {
   "cell_type": "code",
   "execution_count": 3,
   "id": "0f9a9a4f-15b7-4bc5-a26b-bc152ec99760",
   "metadata": {},
   "outputs": [],
   "source": [
    "#reading the file\n",
    "filepath = \"./data/final_synesthesia-yes-no_all-annotators.csv\"\n",
    "df = pd.read_csv(filepath, sep=\",\")\n",
    "df = df.rename(columns={'annotator1': 'R','annotator2':'H', 'annotator3':'A'})"
   ]
  },
  {
   "cell_type": "code",
   "execution_count": 4,
   "id": "1574a5f0-928a-43af-9cd1-d041d31c5a9a",
   "metadata": {},
   "outputs": [],
   "source": [
    "filepath = \"./data/synesthesia-yes-no_all-annotators.csv\"\n",
    "df_earlier = pd.read_csv(filepath, sep=\",\")\n",
    "df_earlier = df_earlier.rename(columns={'annotator1': 'R','annotator2':'H', 'annotator3':'A'})"
   ]
  },
  {
   "cell_type": "code",
   "execution_count": 5,
   "id": "94f0058b-90c8-46c0-8613-1248b65c4589",
   "metadata": {},
   "outputs": [
    {
     "data": {
      "text/html": [
       "<div>\n",
       "<style scoped>\n",
       "    .dataframe tbody tr th:only-of-type {\n",
       "        vertical-align: middle;\n",
       "    }\n",
       "\n",
       "    .dataframe tbody tr th {\n",
       "        vertical-align: top;\n",
       "    }\n",
       "\n",
       "    .dataframe thead th {\n",
       "        text-align: right;\n",
       "    }\n",
       "</style>\n",
       "<table border=\"1\" class=\"dataframe\">\n",
       "  <thead>\n",
       "    <tr style=\"text-align: right;\">\n",
       "      <th></th>\n",
       "      <th>instance</th>\n",
       "      <th>R</th>\n",
       "      <th>H</th>\n",
       "      <th>A</th>\n",
       "      <th>annotator-llm</th>\n",
       "    </tr>\n",
       "  </thead>\n",
       "  <tbody>\n",
       "    <tr>\n",
       "      <th>0</th>\n",
       "      <td>A dull head among windy spaces.</td>\n",
       "      <td>yes</td>\n",
       "      <td>yes</td>\n",
       "      <td>yes</td>\n",
       "      <td>no</td>\n",
       "    </tr>\n",
       "    <tr>\n",
       "      <th>1</th>\n",
       "      <td>A fine, pedantic sunshine in a satin vest</td>\n",
       "      <td>yes</td>\n",
       "      <td>yes</td>\n",
       "      <td>yes</td>\n",
       "      <td>no</td>\n",
       "    </tr>\n",
       "    <tr>\n",
       "      <th>2</th>\n",
       "      <td>A lonely cab-horse steams and stamps.</td>\n",
       "      <td>no</td>\n",
       "      <td>yes</td>\n",
       "      <td>yes</td>\n",
       "      <td>yes</td>\n",
       "    </tr>\n",
       "    <tr>\n",
       "      <th>3</th>\n",
       "      <td>A silence suffuses the story, and a softness t...</td>\n",
       "      <td>yes</td>\n",
       "      <td>yes</td>\n",
       "      <td>yes</td>\n",
       "      <td>yes</td>\n",
       "    </tr>\n",
       "    <tr>\n",
       "      <th>4</th>\n",
       "      <td>And sore must be the storm</td>\n",
       "      <td>yes</td>\n",
       "      <td>yes</td>\n",
       "      <td>yes</td>\n",
       "      <td>no</td>\n",
       "    </tr>\n",
       "  </tbody>\n",
       "</table>\n",
       "</div>"
      ],
      "text/plain": [
       "                                            instance    R    H    A  \\\n",
       "0                    A dull head among windy spaces.  yes  yes  yes   \n",
       "1          A fine, pedantic sunshine in a satin vest  yes  yes  yes   \n",
       "2              A lonely cab-horse steams and stamps.   no  yes  yes   \n",
       "3  A silence suffuses the story, and a softness t...  yes  yes  yes   \n",
       "4                         And sore must be the storm  yes  yes  yes   \n",
       "\n",
       "  annotator-llm  \n",
       "0            no  \n",
       "1            no  \n",
       "2           yes  \n",
       "3           yes  \n",
       "4            no  "
      ]
     },
     "execution_count": 5,
     "metadata": {},
     "output_type": "execute_result"
    }
   ],
   "source": [
    "df.head()"
   ]
  },
  {
   "cell_type": "markdown",
   "id": "32a0fd4c-ae02-4c97-b70b-719de8451cca",
   "metadata": {},
   "source": [
    "## Cohen's Kappa"
   ]
  },
  {
   "cell_type": "code",
   "execution_count": 6,
   "id": "f6b3809e-2395-4127-8f19-102d03ed5f4f",
   "metadata": {},
   "outputs": [
    {
     "name": "stdout",
     "output_type": "stream",
     "text": [
      "All instances' Cohen's kappa and IAA (all cases):\n",
      "\n",
      "Cohen's kappa between R and H: 0.16\n",
      "Cohen's kappa between R and A: 0.03\n",
      "Cohen's kappa between R and annotator-llm: 0.33\n",
      "Cohen's kappa between H and A: 0.11\n",
      "Cohen's kappa between H and annotator-llm: 0.07\n",
      "Cohen's kappa between A and annotator-llm: -0.05\n",
      "\n",
      "Inter-Annotator Agreement (Cohen's kappa) score - all cases: 0.11\n",
      "----------------------------------------------\n",
      "\n",
      "------ Previous annotations from llm file: --------\n",
      "\n",
      "All instances' Cohen's kappa and IAA (all cases):\n",
      "\n",
      "Cohen's kappa between R and H: 0.16\n",
      "Cohen's kappa between R and A: 0.03\n",
      "Cohen's kappa between R and annotator-llm: 0.23\n",
      "Cohen's kappa between H and A: 0.11\n",
      "Cohen's kappa between H and annotator-llm: 0.07\n",
      "Cohen's kappa between A and annotator-llm: -0.1\n",
      "\n",
      "Inter-Annotator Agreement (Cohen's kappa) score - all cases: 0.08\n",
      "----------------------------------------------\n"
     ]
    }
   ],
   "source": [
    "columns = ['R', 'H', 'A', 'annotator-llm']\n",
    "analyze_all_cases(df, columns)\n",
    "print()\n",
    "print('------ Previous annotations from llm file: --------')\n",
    "print()\n",
    "analyze_all_cases(df_earlier, columns)"
   ]
  },
  {
   "cell_type": "code",
   "execution_count": 7,
   "id": "6980a64d-f1f9-4904-ba23-b45534f1293c",
   "metadata": {},
   "outputs": [
    {
     "name": "stdout",
     "output_type": "stream",
     "text": [
      "All instances - Corner Cases:\n",
      "\n",
      "Cohen's kappa between R and H: 0.08\n",
      "Cohen's kappa between R and A: -0.13\n",
      "Cohen's kappa between R and annotator-llm: 0.16\n",
      "Cohen's kappa between H and A: 0.08\n",
      "Cohen's kappa between H and annotator-llm: 0.08\n",
      "Cohen's kappa between A and annotator-llm: -0.02\n",
      "\n",
      "All instances' corner cases Inter-Annotator Agreement (Cohen's kappa): 0.04\n",
      "----------------------------------------------\n",
      "All instances - Regular Cases:\n",
      "\n",
      "Cohen's kappa between R and H: 0.23\n",
      "Cohen's kappa between R and A: 0.13\n",
      "Cohen's kappa between R and annotator-llm: 0.44\n",
      "Cohen's kappa between H and A: 0.14\n",
      "Cohen's kappa between H and annotator-llm: 0.06\n",
      "Cohen's kappa between A and annotator-llm: -0.06\n",
      "\n",
      "All instances' regular cases Inter-Annotator Agreement (Cohen's kappa): 0.16\n",
      "----------------------------------------------\n",
      "\n",
      "------ Previous annotations from llm file: --------\n",
      "\n",
      "All instances - Corner Cases:\n",
      "\n",
      "Cohen's kappa between R and H: 0.08\n",
      "Cohen's kappa between R and A: -0.13\n",
      "Cohen's kappa between R and annotator-llm: 0.0\n",
      "Cohen's kappa between H and A: 0.08\n",
      "Cohen's kappa between H and annotator-llm: 0.12\n",
      "Cohen's kappa between A and annotator-llm: -0.01\n",
      "\n",
      "All instances' corner cases Inter-Annotator Agreement (Cohen's kappa): 0.02\n",
      "----------------------------------------------\n",
      "All instances - Regular Cases:\n",
      "\n",
      "Cohen's kappa between R and H: 0.23\n",
      "Cohen's kappa between R and A: 0.13\n",
      "Cohen's kappa between R and annotator-llm: 0.39\n",
      "Cohen's kappa between H and A: 0.14\n",
      "Cohen's kappa between H and annotator-llm: 0.03\n",
      "Cohen's kappa between A and annotator-llm: -0.12\n",
      "\n",
      "All instances' regular cases Inter-Annotator Agreement (Cohen's kappa): 0.13\n",
      "----------------------------------------------\n"
     ]
    }
   ],
   "source": [
    "all_corner_cases = []\n",
    "for item in zip(eliot_corner_cases, dickinson_corner_cases, shakespeare_corner_cases):\n",
    "    all_corner_cases.extend(item)\n",
    "analyze_cases(df, all_corner_cases, columns)\n",
    "print()\n",
    "print('------ Previous annotations from llm file: --------')\n",
    "print()\n",
    "analyze_cases(df_earlier, all_corner_cases, columns)"
   ]
  },
  {
   "cell_type": "markdown",
   "id": "4b6c03f2-a781-437f-9388-4a502360483d",
   "metadata": {},
   "source": [
    "## Fleiss Kappa"
   ]
  },
  {
   "cell_type": "code",
   "execution_count": 8,
   "id": "6d5c4cfb-c266-4802-8075-caca2d07bc78",
   "metadata": {},
   "outputs": [
    {
     "name": "stdout",
     "output_type": "stream",
     "text": [
      "Inter-Annotator Agreement (Fleiss Kappa) score - all cases: 0.08\n",
      "----------------------------------------------\n",
      "\n",
      "------ Previous annotations from llm file: --------\n",
      "\n",
      "Inter-Annotator Agreement (Fleiss Kappa) score - all cases: 0.06\n",
      "----------------------------------------------\n"
     ]
    }
   ],
   "source": [
    "analyze_all_cases(df, columns,iaa='fleiss')\n",
    "print()\n",
    "print('------ Previous annotations from llm file: --------')\n",
    "print()\n",
    "analyze_all_cases(df_earlier, columns,iaa='fleiss')"
   ]
  },
  {
   "cell_type": "code",
   "execution_count": 9,
   "id": "72df9197-eb1c-4e7c-8bcf-a492455bd4f0",
   "metadata": {},
   "outputs": [
    {
     "name": "stdout",
     "output_type": "stream",
     "text": [
      "All instances - Corner Cases:\n",
      "\n",
      "All instances' corner cases Inter-Annotator Agreement (Fleiss' kappa): -0.0\n",
      "----------------------------------------------\n",
      "All instances - Regular Cases:\n",
      "\n",
      "All instances' regular cases Inter-Annotator Agreement (Fleiss' kappa): 0.14\n",
      "----------------------------------------------\n",
      "\n",
      "------ Previous annotations from llm file: --------\n",
      "\n",
      "All instances - Corner Cases:\n",
      "\n",
      "All instances' corner cases Inter-Annotator Agreement (Fleiss' kappa): -0.02\n",
      "----------------------------------------------\n",
      "All instances - Regular Cases:\n",
      "\n",
      "All instances' regular cases Inter-Annotator Agreement (Fleiss' kappa): 0.11\n",
      "----------------------------------------------\n"
     ]
    }
   ],
   "source": [
    "analyze_cases(df, all_corner_cases, columns, iaa='fleiss')\n",
    "print()\n",
    "print('------ Previous annotations from llm file: --------')\n",
    "print()\n",
    "analyze_cases(df_earlier, all_corner_cases, columns, iaa='fleiss')"
   ]
  },
  {
   "cell_type": "markdown",
   "id": "b23e96dc-9c45-4e96-9d04-3fc5c54fcda0",
   "metadata": {},
   "source": [
    "## Observed Agreement"
   ]
  },
  {
   "cell_type": "code",
   "execution_count": 11,
   "id": "666f938b-eefe-43c1-be80-f91c1df405b6",
   "metadata": {},
   "outputs": [
    {
     "name": "stdout",
     "output_type": "stream",
     "text": [
      "All instances' Observed Agreement and IAA (all cases):\n",
      "\n",
      "Observed agreement between R and H: 0.69\n",
      "Observed agreement between R and A: 0.52\n",
      "Observed agreement between R and annotator-llm: 0.69\n",
      "Observed agreement between H and A: 0.57\n",
      "Observed agreement between H and annotator-llm: 0.6\n",
      "Observed agreement between A and annotator-llm: 0.48\n",
      "\n",
      "Inter-Annotator Agreement (Observed Agreement) score - all cases: 0.59\n",
      "----------------------------------------------\n",
      "\n",
      "------ Previous annotations from llm file: --------\n",
      "\n",
      "All instances' Observed Agreement and IAA (all cases):\n",
      "\n",
      "Observed agreement between R and H: 0.69\n",
      "Observed agreement between R and A: 0.52\n",
      "Observed agreement between R and annotator-llm: 0.64\n",
      "Observed agreement between H and A: 0.57\n",
      "Observed agreement between H and annotator-llm: 0.6\n",
      "Observed agreement between A and annotator-llm: 0.46\n",
      "\n",
      "Inter-Annotator Agreement (Observed Agreement) score - all cases: 0.58\n",
      "----------------------------------------------\n"
     ]
    }
   ],
   "source": [
    "analyze_all_cases(df, columns,iaa='oa')\n",
    "print()\n",
    "print('------ Previous annotations from llm file: --------')\n",
    "print()\n",
    "analyze_all_cases(df_earlier, columns,iaa='oa')"
   ]
  },
  {
   "cell_type": "markdown",
   "id": "3d8e6262-7725-49c6-8f75-fc7eeecdfb2d",
   "metadata": {},
   "source": [
    "## Creating the final file with gold labels"
   ]
  },
  {
   "cell_type": "markdown",
   "id": "e67c969c-3000-4775-9a43-31191a77725b",
   "metadata": {},
   "source": [
    "Only keeping the cases in which there is total agreement on the labels. \\\n",
    "If there is not, checking whether there is agreement among human annotators and disregarding the cases in which ChatGPT annotated a different label."
   ]
  },
  {
   "cell_type": "code",
   "execution_count": 12,
   "id": "05508d90-e70c-487b-b4ba-28df3fdcef99",
   "metadata": {},
   "outputs": [
    {
     "name": "stdout",
     "output_type": "stream",
     "text": [
      "Instances in which LLM disagreed with human annotators but all three human annotators agreed: \n",
      "\n",
      "['A dull head among windy spaces.',\n",
      " 'A fine, pedantic sunshine in a satin vest',\n",
      " 'And sore must be the storm',\n",
      " 'Cherries suit robins',\n",
      " 'I impair not beauty being mute',\n",
      " 'Under a windy knob.',\n",
      " 'Victory comes late, and is held low to freezing lips too rapt with frost to '\n",
      " 'take it. How sweet it would have tasted, just a drop!',\n",
      " 'hiding thy bravery in their rotten smoke',\n",
      " 'more than that tongue that more hath more express’d',\n",
      " 'the wide world and all her fading sweets']\n"
     ]
    }
   ],
   "source": [
    "final_corpus_df, disagreement_from_llm = process_annotations_and_disagreements(df, columns)\n",
    "print(\"Instances in which LLM disagreed with human annotators but all three human annotators agreed: \\n\") \n",
    "pprint.pprint(disagreement_from_llm)"
   ]
  },
  {
   "cell_type": "code",
   "execution_count": 11,
   "id": "d835406d-391e-4a4f-9c64-e9a49cbb1810",
   "metadata": {},
   "outputs": [
    {
     "name": "stdout",
     "output_type": "stream",
     "text": [
      "Distribution of the labels in file ./final_corpus/final_corpus_synesthesia_yes_no.csv\n",
      "label\n",
      "yes    30\n",
      "no      5\n",
      "Name: count, dtype: int64\n"
     ]
    },
    {
     "data": {
      "image/png": "[encoded data removed]",
      "text/plain": [
       "<Figure size 500x500 with 1 Axes>"
      ]
     },
     "metadata": {},
     "output_type": "display_data"
    },
    {
     "name": "stdout",
     "output_type": "stream",
     "text": [
      "Final corpus for ./final_corpus/final_corpus_synesthesia_yes_no.csv successfully written to csv file.\n",
      "----------------------------------------------\n",
      "\n"
     ]
    }
   ],
   "source": [
    "dataframes = [final_corpus_df]\n",
    "file_names = ['./final_corpus/final_corpus_synesthesia_yes_no.csv']\n",
    "visualize_and_write_final_df(dataframes, file_names)"
   ]
  },
  {
   "cell_type": "markdown",
   "id": "c1f43d7d-d806-4b4d-bdca-8ce11a1dab6c",
   "metadata": {},
   "source": [
    "## Compute IAA on final corpus"
   ]
  },
  {
   "cell_type": "code",
   "execution_count": 13,
   "id": "4ab80c16-e3e0-48a7-bbd0-6d58b680a25f",
   "metadata": {},
   "outputs": [
    {
     "name": "stdout",
     "output_type": "stream",
     "text": [
      "All instances' Cohen's kappa and IAA (all cases):\n",
      "\n",
      "Cohen's kappa between R and H: 1.0\n",
      "Cohen's kappa between R and A: 1.0\n",
      "Cohen's kappa between R and annotator-llm: 0.12\n",
      "Cohen's kappa between H and A: 1.0\n",
      "Cohen's kappa between H and annotator-llm: 0.12\n",
      "Cohen's kappa between A and annotator-llm: 0.12\n",
      "\n",
      "Inter-Annotator Agreement (Cohen's kappa) score - all cases: 0.56\n",
      "----------------------------------------------\n",
      "\n",
      "Inter-Annotator Agreement (Fleiss Kappa) score - all cases: 0.5\n",
      "----------------------------------------------\n",
      "\n",
      "All instances' Observed Agreement and IAA (all cases):\n",
      "\n",
      "Observed agreement between R and H: 1.0\n",
      "Observed agreement between R and A: 1.0\n",
      "Observed agreement between R and annotator-llm: 0.71\n",
      "Observed agreement between H and A: 1.0\n",
      "Observed agreement between H and annotator-llm: 0.71\n",
      "Observed agreement between A and annotator-llm: 0.71\n",
      "\n",
      "Inter-Annotator Agreement (Observed Agreement) score - all cases: 0.86\n",
      "----------------------------------------------\n"
     ]
    }
   ],
   "source": [
    "filtered_df = df[df['instance'].isin(final_corpus_df['instance'])]\n",
    "\n",
    "#Cohen's Kappa\n",
    "analyze_all_cases(filtered_df, columns)\n",
    "print()\n",
    "#Fleiss Kappa\n",
    "analyze_all_cases(filtered_df, columns,iaa='fleiss')\n",
    "print()\n",
    "#Observed Agreement\n",
    "analyze_all_cases(filtered_df, columns,iaa='oa')"
   ]
  },
  {
   "cell_type": "markdown",
   "id": "f793c035-abe3-4583-a98f-14a0ac1d10ff",
   "metadata": {},
   "source": [
    "## Save IAA for future use"
   ]
  },
  {
   "cell_type": "code",
   "execution_count": 14,
   "id": "d64fcdc4-fde0-4093-b28a-b13d3d247756",
   "metadata": {},
   "outputs": [
    {
     "name": "stdout",
     "output_type": "stream",
     "text": [
      "IAA function output saved to iaa.txt\n"
     ]
    }
   ],
   "source": [
    "# Save the current standard output\n",
    "original_stdout = sys.stdout\n",
    "\n",
    "# Specify the file path where you want to save the output\n",
    "output_file_path = 'iaa.txt'\n",
    "\n",
    "# Open the file in write mode\n",
    "with open(output_file_path, 'w') as f:\n",
    "    # Redirect standard output to the file\n",
    "    sys.stdout = f\n",
    "    print(\"IAA on Linguistic Synesthesia - Yes or No Final Corpus\")\n",
    "    print()\n",
    "    # Call the function\n",
    "    analyze_all_cases(filtered_df, columns)\n",
    "    analyze_all_cases(filtered_df, columns,iaa='fleiss')\n",
    "    analyze_all_cases(filtered_df, columns,iaa='oa')\n",
    "    print(\"----------------------------------------------\")\n",
    "\n",
    "# Restore the original standard output\n",
    "sys.stdout = original_stdout\n",
    "\n",
    "print(f\"IAA function output saved to {output_file_path}\")"
   ]
  },
  {
   "cell_type": "code",
   "execution_count": null,
   "id": "3a91ada6-a23f-4b3b-83ad-8c98716bd7bb",
   "metadata": {},
   "outputs": [],
   "source": []
  }
 ],
 "metadata": {
  "kernelspec": {
   "display_name": "Python 3 (ipykernel)",
   "language": "python",
   "name": "python3"
  },
  "language_info": {
   "codemirror_mode": {
    "name": "ipython",
    "version": 3
   },
   "file_extension": ".py",
   "mimetype": "text/x-python",
   "name": "python",
   "nbconvert_exporter": "python",
   "pygments_lexer": "ipython3",
   "version": "3.11.5"
  }
 },
 "nbformat": 4,
 "nbformat_minor": 5
}
